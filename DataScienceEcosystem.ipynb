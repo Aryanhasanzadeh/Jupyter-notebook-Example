{
 "cells": [
  {
   "cell_type": "markdown",
   "id": "06cbf4e7-165b-4962-b841-b8a8f69420c5",
   "metadata": {},
   "source": [
    "# Data Science Tools and Ecosystem"
   ]
  },
  {
   "cell_type": "markdown",
   "id": "bbcc698b-4730-4153-8706-f3265ae61399",
   "metadata": {},
   "source": [
    "In this notebook, Data Science Tools and Ecosystem are summarized"
   ]
  },
  {
   "cell_type": "markdown",
   "id": "d1d00678-aa5f-432c-a62f-797a8f898ef2",
   "metadata": {},
   "source": [
    "**Some of the popular languages that Data Scientists use are:**\n",
    "1. python\n",
    "2. SQL\n",
    "3. R\n",
    "4. Julia"
   ]
  },
  {
   "cell_type": "markdown",
   "id": "8515fefb-9ac4-42a3-bd39-c256308813e2",
   "metadata": {},
   "source": [
    "**Some of the commonly used libraries used by Data Scientists include:**\n",
    "1. NumPy\n",
    "2. TensorFlow\n",
    "3. PyTorch\n",
    "4. SciPy\n"
   ]
  },
  {
   "cell_type": "markdown",
   "id": "97a6785c-f109-443a-9569-dd56476c6928",
   "metadata": {},
   "source": [
    "**Data Science Tools**\n",
    "|Data Science Tools|\n",
    "|-|\n",
    "|Jupyter Notebook|\n",
    "|RStudio|\n",
    "|Apache Spark|"
   ]
  },
  {
   "cell_type": "markdown",
   "id": "62226dea-29e5-4ad2-ba6f-c7efece7987a",
   "metadata": {},
   "source": [
    "**Below are a few examples of evaluating arithmetic expressions in Python**\n"
   ]
  },
  {
   "cell_type": "code",
   "execution_count": 1,
   "id": "cdbdb854-d1bf-4f70-8b4c-4aabfabd29be",
   "metadata": {},
   "outputs": [
    {
     "data": {
      "text/plain": [
       "256"
      ]
     },
     "execution_count": 1,
     "metadata": {},
     "output_type": "execute_result"
    }
   ],
   "source": [
    "eval(\"2 ** 8\")"
   ]
  },
  {
   "cell_type": "code",
   "execution_count": 2,
   "id": "063fa6cc-3000-4624-882b-92a6c0e451a1",
   "metadata": {},
   "outputs": [
    {
     "data": {
      "text/plain": [
       "951166013805414055936"
      ]
     },
     "execution_count": 2,
     "metadata": {},
     "output_type": "execute_result"
    }
   ],
   "source": [
    "eval(\"56 ** 12\")"
   ]
  },
  {
   "cell_type": "code",
   "execution_count": 3,
   "id": "cfc82e28-b5cf-4b91-b47c-2a1f657a2606",
   "metadata": {},
   "outputs": [
    {
     "data": {
      "text/plain": [
       "17"
      ]
     },
     "execution_count": 3,
     "metadata": {},
     "output_type": "execute_result"
    }
   ],
   "source": [
    "# This a simple arithmetic expression to mutiply then add integers\n",
    "(3*4)+5"
   ]
  },
  {
   "cell_type": "code",
   "execution_count": 4,
   "id": "38a87bff-6c70-4d7b-bf92-e138657373f9",
   "metadata": {},
   "outputs": [
    {
     "data": {
      "text/plain": [
       "3.3333333333333335"
      ]
     },
     "execution_count": 4,
     "metadata": {},
     "output_type": "execute_result"
    }
   ],
   "source": [
    "# This will convert 200 minutes to hours by diving by 60\n",
    "200 / 60"
   ]
  },
  {
   "cell_type": "markdown",
   "id": "c3dbac16-27b3-4910-a00a-97b4581c985f",
   "metadata": {},
   "source": [
    "**Objectives:**\n",
    "List popular languages for Data Science.\n",
    "- Python \n",
    "- SQL\n",
    "- R"
   ]
  },
  {
   "cell_type": "markdown",
   "id": "81b3b6a4-c92c-4655-a52b-69514e2d0891",
   "metadata": {},
   "source": [
    "## Author "
   ]
  },
  {
   "cell_type": "markdown",
   "id": "16affa04-8f52-49cd-b571-44c0b7c5cad1",
   "metadata": {},
   "source": [
    "name : Aryan Hasanzadeh"
   ]
  },
  {
   "cell_type": "code",
   "execution_count": null,
   "id": "1ba84676-4372-4f46-8e5b-be49e6cff017",
   "metadata": {},
   "outputs": [],
   "source": []
  }
 ],
 "metadata": {
  "kernelspec": {
   "display_name": "Python 3 (ipykernel)",
   "language": "python",
   "name": "python3"
  },
  "language_info": {
   "codemirror_mode": {
    "name": "ipython",
    "version": 3
   },
   "file_extension": ".py",
   "mimetype": "text/x-python",
   "name": "python",
   "nbconvert_exporter": "python",
   "pygments_lexer": "ipython3",
   "version": "3.11.3"
  }
 },
 "nbformat": 4,
 "nbformat_minor": 5
}
